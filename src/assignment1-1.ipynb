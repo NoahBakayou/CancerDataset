{
 "cells": [
  {
   "cell_type": "markdown",
   "id": "9a929762",
   "metadata": {},
   "source": [
    "# Assignment #1\n",
    "\n",
    "Author:\n",
    "\n",
    "Collaborators:\n",
    "\n",
    "Integrity Statement: Did you use an LLM to write any of the code in your assignment? (Y/N): N"
   ]
  },
  {
   "cell_type": "markdown",
   "id": "fde48eef",
   "metadata": {},
   "source": [
    "# Instructions"
   ]
  },
  {
   "cell_type": "markdown",
   "id": "ce287a26",
   "metadata": {},
   "source": [
    "You are permitted to work with a partner in the class to complete your assignment, but no more than one partner. However, every student must submit their own copy of the assignment, and must list your collaborators."
   ]
  },
  {
   "cell_type": "markdown",
   "id": "56a88d54",
   "metadata": {},
   "source": [
    "You should refer to your textbook and posted course materials as resources. You are also allowed to use the documentation for python, pandas, matplotlib, and seaborn. You may not use other online resources or LLMs for this assignment."
   ]
  },
  {
   "cell_type": "markdown",
   "id": "98e0af3a",
   "metadata": {},
   "source": [
    "You will be graded based on (1) correctness, (2) completeness, (3) documentation, and (4) overall readability of your notebook. The assignment will be worth a total of 100 points in the Homework category (15% of your grade)."
   ]
  },
  {
   "cell_type": "markdown",
   "id": "850e2c3f",
   "metadata": {},
   "source": [
    "**Submission and Deadline: This assignment must be submitted on Canvas before class begins on Wednesday, September 17.**"
   ]
  },
  {
   "cell_type": "markdown",
   "id": "9253ef9f",
   "metadata": {},
   "source": [
    "You must complete all of the steps below:\n",
    "\n",
    "1. Organize your project in a project folder (or repo) with three subfolders: src, data, and presentations. Place the provided dataset in the data folder, and the two provided notebooks in the src folder.\n",
    "2. Use a python virtual environment, install the libraries you use, and create a requirements.txt file (using `pip freeze`)\n",
    "3. Open and read through the provided data cleaning notebook to understand the cleaning process and all of its operations. (Fair game).\n",
    "4. Run the separate notebook provided for cleaning the CDC data. It should create a new file. You do not need to edit that notebook at all, and only need to run it once. All coding will take place in this notebook.\n",
    "\n",
    "The rest of the assignment should be completed in this notebook:\n",
    "\n",
    "1. Read in the clean data in from the provided csv file and write code to examine it and understand it\n",
    "2. Write code to determine which cancer site had the highest incidence of new cases for females in each individual year included in the dataset, and present your results\n",
    "3. Create a line plot for All Invasive Cancer Sites with x-axis = year, y-axis = incidence of cancer cases, and a separate line for Males and Females (two lines total)\n",
    "4. Create a line plot for females with x-axis = year, y-axis = incidence of cancer, and a separate line for each individual cancer site (many lines)\n",
    "5. Create a scatter plot with a single marker for each (site, sex) pair in 2000, with x-axis = population, y-axis = incidence of cancer cases. Use a different color marker for Males and Females\n",
    "6. Create a bar plot with a bar for each individual cancer site (excluding the all-inclusive case), and bar length based on the incidence of new cases for males in the year 2000\n",
    "7. For each cancer site and each year, determine whether males or females had the higher incidence (hint: groupby)\n",
    "8. Create a pivot table with a row for each cancer site, column for each year, and a value equal to the total incidence of males and females combined\n",
    "\n",
    "9. Add your full name and the full names of your collaborator (if any) at the top of this document. Answer the integrity statement. \n",
    "10. Submit this notebook on Canvas together with the requirements.txt file\n",
    "\n",
    "**NOTE:** For each plot, add a descriptive title and label the axes appropriately, and remark on any observations that you make."
   ]
  },
  {
   "cell_type": "markdown",
   "id": "85956d8c",
   "metadata": {},
   "source": [
    "**HINT #1:** Most problems can be solved by some combination of filtering and/or groupby before aggregating (e.g., taking the max) and plotting.\n",
    "\n",
    "**HINT #2:** You can solve these problems in any order, so do the ones you find easiest first and the rest will start to feel easier.\n",
    "\n",
    "**Useful Documentation**\n",
    "- Pandas general documentation: https://pandas.pydata.org/docs/user_guide/index.html\n",
    "- Pandas dataframe reshaping: https://pandas.pydata.org/docs/user_guide/reshaping.html\n",
    "- Pandas Copy-on-Write: https://pandas.pydata.org/docs/user_guide/copy_on_write.html\n",
    "- Pandas missing data: https://pandas.pydata.org/docs/user_guide/missing_data.html\n",
    "- Pandas split-apply-combine (groupby, agg): https://pandas.pydata.org/docs/user_guide/groupby.html \n",
    "\n",
    "- Matplotlib documentation: https://matplotlib.org/stable/plot_types/index.html\n",
    "- Seaborn documentation: https://seaborn.pydata.org/\n"
   ]
  },
  {
   "cell_type": "markdown",
   "id": "c18c27e5",
   "metadata": {},
   "source": [
    "# Imports and CoW"
   ]
  },
  {
   "cell_type": "code",
   "execution_count": null,
   "id": "9f3f5051",
   "metadata": {},
   "outputs": [],
   "source": [
    "#Uncomment the libraries you need. Be sure to install whichever ones you need into your Python virtual environment. You may also need to also install Jupyter or iPython to run your notebook, depending on your setup.\n",
    "\n",
    "import pandas as pd\n",
    "import matplotlib.pyplot as plt\n",
    "import seaborn as sns\n",
    "import numpy as np\n"
   ]
  },
  {
   "cell_type": "code",
   "execution_count": 4,
   "id": "5a0e9559",
   "metadata": {},
   "outputs": [],
   "source": [
    "#pd.set_option('''Your code here to set Copy-on-Write''') # will be the default in pandas 3.0, best to enforce it\n",
    "pd.set_option(\"mode.copy_on_write\", True) # will be the default in pandas 3.0, best to enforce it"
   ]
  },
  {
   "cell_type": "markdown",
   "id": "21bb0441",
   "metadata": {},
   "source": [
    "# 1. Read in Data"
   ]
  },
  {
   "cell_type": "code",
   "execution_count": 102,
   "id": "6c5fb066",
   "metadata": {},
   "outputs": [
    {
     "data": {
      "text/html": [
       "<div>\n",
       "<style scoped>\n",
       "    .dataframe tbody tr th:only-of-type {\n",
       "        vertical-align: middle;\n",
       "    }\n",
       "\n",
       "    .dataframe tbody tr th {\n",
       "        vertical-align: top;\n",
       "    }\n",
       "\n",
       "    .dataframe thead th {\n",
       "        text-align: right;\n",
       "    }\n",
       "</style>\n",
       "<table border=\"1\" class=\"dataframe\">\n",
       "  <thead>\n",
       "    <tr style=\"text-align: right;\">\n",
       "      <th></th>\n",
       "      <th>Cancer Sites</th>\n",
       "      <th>Cancer Sites Code</th>\n",
       "      <th>Year</th>\n",
       "      <th>Sex</th>\n",
       "      <th>Count</th>\n",
       "      <th>Population</th>\n",
       "      <th>Age-Adjusted Rate</th>\n",
       "      <th>Age-Adjusted Rate Lower 95% Confidence Interval</th>\n",
       "      <th>Age-Adjusted Rate Upper 95% Confidence Interval</th>\n",
       "      <th>Crude Rate</th>\n",
       "      <th>Crude Rate Lower 95% Confidence Interval</th>\n",
       "      <th>Crude Rate Upper 95% Confidence Interval</th>\n",
       "    </tr>\n",
       "  </thead>\n",
       "  <tbody>\n",
       "    <tr>\n",
       "      <th>0</th>\n",
       "      <td>All Invasive Cancer Sites Combined</td>\n",
       "      <td>0</td>\n",
       "      <td>1999</td>\n",
       "      <td>F</td>\n",
       "      <td>631741</td>\n",
       "      <td>140394214</td>\n",
       "      <td>420.5</td>\n",
       "      <td>419.4</td>\n",
       "      <td>421.5</td>\n",
       "      <td>450.0</td>\n",
       "      <td>448.9</td>\n",
       "      <td>451.1</td>\n",
       "    </tr>\n",
       "    <tr>\n",
       "      <th>1</th>\n",
       "      <td>All Invasive Cancer Sites Combined</td>\n",
       "      <td>0</td>\n",
       "      <td>1999</td>\n",
       "      <td>M</td>\n",
       "      <td>672530</td>\n",
       "      <td>135067134</td>\n",
       "      <td>572.4</td>\n",
       "      <td>571.0</td>\n",
       "      <td>573.8</td>\n",
       "      <td>497.9</td>\n",
       "      <td>496.7</td>\n",
       "      <td>499.1</td>\n",
       "    </tr>\n",
       "    <tr>\n",
       "      <th>2</th>\n",
       "      <td>All Invasive Cancer Sites Combined</td>\n",
       "      <td>0</td>\n",
       "      <td>2000</td>\n",
       "      <td>F</td>\n",
       "      <td>641968</td>\n",
       "      <td>141865770</td>\n",
       "      <td>421.3</td>\n",
       "      <td>420.3</td>\n",
       "      <td>422.4</td>\n",
       "      <td>452.5</td>\n",
       "      <td>451.4</td>\n",
       "      <td>453.6</td>\n",
       "    </tr>\n",
       "    <tr>\n",
       "      <th>3</th>\n",
       "      <td>All Invasive Cancer Sites Combined</td>\n",
       "      <td>0</td>\n",
       "      <td>2000</td>\n",
       "      <td>M</td>\n",
       "      <td>690598</td>\n",
       "      <td>136692444</td>\n",
       "      <td>577.0</td>\n",
       "      <td>575.6</td>\n",
       "      <td>578.3</td>\n",
       "      <td>505.2</td>\n",
       "      <td>504.0</td>\n",
       "      <td>506.4</td>\n",
       "    </tr>\n",
       "    <tr>\n",
       "      <th>4</th>\n",
       "      <td>All Invasive Cancer Sites Combined</td>\n",
       "      <td>0</td>\n",
       "      <td>2001</td>\n",
       "      <td>F</td>\n",
       "      <td>662313</td>\n",
       "      <td>143603977</td>\n",
       "      <td>427.6</td>\n",
       "      <td>426.6</td>\n",
       "      <td>428.7</td>\n",
       "      <td>461.2</td>\n",
       "      <td>460.1</td>\n",
       "      <td>462.3</td>\n",
       "    </tr>\n",
       "  </tbody>\n",
       "</table>\n",
       "</div>"
      ],
      "text/plain": [
       "                         Cancer Sites Cancer Sites Code  Year Sex   Count  \\\n",
       "0  All Invasive Cancer Sites Combined                 0  1999   F  631741   \n",
       "1  All Invasive Cancer Sites Combined                 0  1999   M  672530   \n",
       "2  All Invasive Cancer Sites Combined                 0  2000   F  641968   \n",
       "3  All Invasive Cancer Sites Combined                 0  2000   M  690598   \n",
       "4  All Invasive Cancer Sites Combined                 0  2001   F  662313   \n",
       "\n",
       "   Population  Age-Adjusted Rate  \\\n",
       "0   140394214              420.5   \n",
       "1   135067134              572.4   \n",
       "2   141865770              421.3   \n",
       "3   136692444              577.0   \n",
       "4   143603977              427.6   \n",
       "\n",
       "   Age-Adjusted Rate Lower 95% Confidence Interval  \\\n",
       "0                                            419.4   \n",
       "1                                            571.0   \n",
       "2                                            420.3   \n",
       "3                                            575.6   \n",
       "4                                            426.6   \n",
       "\n",
       "   Age-Adjusted Rate Upper 95% Confidence Interval  Crude Rate  \\\n",
       "0                                            421.5       450.0   \n",
       "1                                            573.8       497.9   \n",
       "2                                            422.4       452.5   \n",
       "3                                            578.3       505.2   \n",
       "4                                            428.7       461.2   \n",
       "\n",
       "   Crude Rate Lower 95% Confidence Interval  \\\n",
       "0                                     448.9   \n",
       "1                                     496.7   \n",
       "2                                     451.4   \n",
       "3                                     504.0   \n",
       "4                                     460.1   \n",
       "\n",
       "   Crude Rate Upper 95% Confidence Interval  \n",
       "0                                     451.1  \n",
       "1                                     499.1  \n",
       "2                                     453.6  \n",
       "3                                     506.4  \n",
       "4                                     462.3  "
      ]
     },
     "execution_count": 102,
     "metadata": {},
     "output_type": "execute_result"
    }
   ],
   "source": [
    "from pathlib import Path\n",
    "\n",
    "cwd = Path().cwd() #should be our src folder, containing this notebook\n",
    "project_folder = cwd.parent #should be our project folder, containing the src folder\n",
    "dataset_path = Path('data/clean_cdc_cancer.csv') #using a data folder makes life easier\n",
    "\n",
    "file = project_folder / dataset_path #join the project folder with the dataset path\n",
    "\n",
    "if not file.exists():\n",
    "    raise FileNotFoundError(f\"Dataset file not found: {file}\")\n",
    "cancer = pd.read_csv(file)\n",
    "cancer.head()"
   ]
  },
  {
   "cell_type": "markdown",
   "id": "9a423fd2",
   "metadata": {},
   "source": [
    "# 2. Incidence for Females Each Year\n",
    "\n",
    "Write code to determine which cancer site had the highest incidence of new cases for females in each year 1999-2022 (hint: filter then groupby then agg)"
   ]
  },
  {
   "cell_type": "code",
   "execution_count": 103,
   "id": "5527fd7a",
   "metadata": {},
   "outputs": [
    {
     "name": "stdout",
     "output_type": "stream",
     "text": [
      "Year  Cancer Sites \n",
      "1999  Female Breast    198589\n",
      "2000  Female Breast    198710\n",
      "2001  Female Breast    201357\n",
      "2002  Female Breast    200584\n",
      "2003  Female Breast    195513\n",
      "2004  Female Breast    196651\n",
      "2005  Female Breast    199812\n",
      "2006  Female Breast    204445\n",
      "2007  Female Breast    210783\n",
      "2008  Female Breast    216685\n",
      "2009  Female Breast    222326\n",
      "2010  Female Breast    219250\n",
      "2011  Female Breast    227410\n",
      "2012  Female Breast    231092\n",
      "2013  Female Breast    237889\n",
      "2014  Female Breast    242376\n",
      "2015  Female Breast    248727\n",
      "2016  Female Breast    251441\n",
      "2017  Female Breast    256815\n",
      "2018  Female Breast    263598\n",
      "2019  Female Breast    273771\n",
      "2020  Female Breast    251851\n",
      "2021  Female Breast    282273\n",
      "2022  Female Breast    279731\n",
      "Name: Count, dtype: int64\n"
     ]
    }
   ],
   "source": [
    "female_data = cancer[cancer[\"Sex\"] == \"F\"]\n",
    "\n",
    "# Remove unwanted cancer sites\n",
    "female_data_filtered = female_data[female_data[\"Cancer Sites\"] != \"All Invasive Cancer Sites Combined\"]\n",
    "female_data_filtered = female_data_filtered[female_data_filtered[\"Cancer Sites\"] != \"Male and Female Breast\"]\n",
    "\n",
    "# Group by Year and Cancer Site, then sum the count\n",
    "grouped = female_data_filtered.groupby([\"Year\", \"Cancer Sites\"])[\"Count\"].sum()\n",
    "\n",
    "# For each year, find the max count value\n",
    "max_per_year = grouped.groupby(\"Year\").agg(\"max\")\n",
    "\n",
    "# Match year and count from grouped to get only the rows with the max count\n",
    "final = grouped[grouped.isin(max_per_year)]\n",
    "\n",
    "print(final)\n"
   ]
  },
  {
   "cell_type": "markdown",
   "id": "85778d07",
   "metadata": {},
   "source": [
    "# 3. Line plots for male and female, all sites\n",
    "\n",
    "Create a line plot for All Invasive Cancer Sites with x-axis = year, y-axis = incidence of cancer cases, and a separate line for Males and Females (two lines total)"
   ]
  },
  {
   "cell_type": "code",
   "execution_count": null,
   "id": "173101ec",
   "metadata": {},
   "outputs": [
    {
     "ename": "NameError",
     "evalue": "name 'sns' is not defined",
     "output_type": "error",
     "traceback": [
      "\u001b[31m---------------------------------------------------------------------------\u001b[39m",
      "\u001b[31mNameError\u001b[39m                                 Traceback (most recent call last)",
      "\u001b[36mCell\u001b[39m\u001b[36m \u001b[39m\u001b[32mIn[100]\u001b[39m\u001b[32m, line 5\u001b[39m\n\u001b[32m      2\u001b[39m filtered = cancer[cancer[\u001b[33m\"\u001b[39m\u001b[33mCancer Sites\u001b[39m\u001b[33m\"\u001b[39m] == \u001b[33m\"\u001b[39m\u001b[33mAll Invasive Cancer Sites Combined\u001b[39m\u001b[33m\"\u001b[39m]\n\u001b[32m      4\u001b[39m \u001b[38;5;66;03m# Create the line plot\u001b[39;00m\n\u001b[32m----> \u001b[39m\u001b[32m5\u001b[39m \u001b[43msns\u001b[49m.lineplot(data=filtered, x=\u001b[33m\"\u001b[39m\u001b[33mYear\u001b[39m\u001b[33m\"\u001b[39m, y=\u001b[33m\"\u001b[39m\u001b[33mCount\u001b[39m\u001b[33m\"\u001b[39m, hue=\u001b[33m\"\u001b[39m\u001b[33mSex\u001b[39m\u001b[33m\"\u001b[39m)\n\u001b[32m      7\u001b[39m plt.title(\u001b[33m\"\u001b[39m\u001b[33mCancer Incidence Over Time (All Invasive Sites)\u001b[39m\u001b[33m\"\u001b[39m)\n\u001b[32m      8\u001b[39m plt.ylabel(\u001b[33m\"\u001b[39m\u001b[33mNumber of Cases\u001b[39m\u001b[33m\"\u001b[39m)\n",
      "\u001b[31mNameError\u001b[39m: name 'sns' is not defined"
     ]
    }
   ],
   "source": []
  },
  {
   "cell_type": "markdown",
   "id": "b2fe0d67",
   "metadata": {},
   "source": [
    "# 4. Line plots for cancer sites\n",
    "\n",
    " Create a line plot for females with x-axis = year, y-axis = incidence of cancer, and a separate line for each cancer site (many lines)"
   ]
  },
  {
   "cell_type": "code",
   "execution_count": null,
   "id": "6920e4fc",
   "metadata": {},
   "outputs": [],
   "source": []
  },
  {
   "cell_type": "markdown",
   "id": "ec4aba1b",
   "metadata": {},
   "source": [
    "# 5. Scatter plot for 2020\n",
    "\n",
    "Create a scatter plot with a single marker for each (site, sex) pair in 2000, with x-axis = population, y-axis = incidence of cancer cases. Use a different color marker for Males and Females"
   ]
  },
  {
   "cell_type": "code",
   "execution_count": null,
   "id": "63748a71",
   "metadata": {},
   "outputs": [],
   "source": []
  },
  {
   "cell_type": "markdown",
   "id": "3fec5b67",
   "metadata": {},
   "source": [
    "# 6. Bar plot for each site\n",
    "\n",
    "Create a bar plot with a bar for each individual cancer site (excluding the all-inclusive case), and bar length based on the incidence of new cases for males in the year 2000"
   ]
  },
  {
   "cell_type": "code",
   "execution_count": null,
   "id": "83068f5d",
   "metadata": {},
   "outputs": [],
   "source": []
  },
  {
   "cell_type": "markdown",
   "id": "09d95406",
   "metadata": {},
   "source": [
    "# 7. Higher Incidence Between Sexes\n",
    "\n",
    "For each cancer site and each year, determine whether males or females had the higher incidence"
   ]
  },
  {
   "cell_type": "code",
   "execution_count": null,
   "id": "46b9d49b",
   "metadata": {},
   "outputs": [],
   "source": []
  },
  {
   "cell_type": "markdown",
   "id": "a1218917",
   "metadata": {},
   "source": [
    "# 8. Pivot table for cancer / year\n",
    "\n",
    "Create a pivot table with a row for each cancer site, column for each year, and a value equal to the total incidence of males and females combined"
   ]
  },
  {
   "cell_type": "code",
   "execution_count": null,
   "id": "42864c6e",
   "metadata": {},
   "outputs": [],
   "source": []
  }
 ],
 "metadata": {
  "kernelspec": {
   "display_name": "venv",
   "language": "python",
   "name": "python3"
  },
  "language_info": {
   "codemirror_mode": {
    "name": "ipython",
    "version": 3
   },
   "file_extension": ".py",
   "mimetype": "text/x-python",
   "name": "python",
   "nbconvert_exporter": "python",
   "pygments_lexer": "ipython3",
   "version": "3.13.7"
  }
 },
 "nbformat": 4,
 "nbformat_minor": 5
}
